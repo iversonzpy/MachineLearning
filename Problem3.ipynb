{
  "nbformat": 4,
  "nbformat_minor": 0,
  "metadata": {
    "colab": {
      "name": "Problem3.ipynb",
      "version": "0.3.2",
      "provenance": [],
      "collapsed_sections": [],
      "include_colab_link": true
    },
    "kernelspec": {
      "display_name": "Python 3",
      "language": "python",
      "name": "python3"
    }
  },
  "cells": [
    {
      "cell_type": "markdown",
      "metadata": {
        "id": "view-in-github",
        "colab_type": "text"
      },
      "source": [
        "<a href=\"https://colab.research.google.com/github/iversonzpy/MachineLearning/blob/master/Problem3.ipynb\" target=\"_parent\"><img src=\"https://colab.research.google.com/assets/colab-badge.svg\" alt=\"Open In Colab\"/></a>"
      ]
    },
    {
      "metadata": {
        "id": "rVzlxGt-nvnR",
        "colab_type": "code",
        "colab": {}
      },
      "cell_type": "code",
      "source": [
        "import numpy as np\n",
        "from scipy.stats import norm, stats\n",
        "import matplotlib.pyplot as plt\n",
        "from scipy.optimize import minimize"
      ],
      "execution_count": 0,
      "outputs": []
    },
    {
      "metadata": {
        "id": "jyLNKWo8nvnW",
        "colab_type": "code",
        "colab": {}
      },
      "cell_type": "code",
      "source": [
        "k = 10000 # number of examples\n",
        "np.random.seed(1)\n",
        "b = 101\n",
        "a = -100\n",
        "x = (b - a) * np.random.rand(k) + a #[-100, 100]\n",
        "y = 0.2 + 2 * x + x ** 2 + 3 * x ** 3"
      ],
      "execution_count": 0,
      "outputs": []
    },
    {
      "metadata": {
        "id": "Y-zE9Bf8nvna",
        "colab_type": "code",
        "colab": {
          "base_uri": "https://localhost:8080/",
          "height": 364
        },
        "outputId": "ca159d5c-f6f0-4deb-a2fa-c32a44ad2567"
      },
      "cell_type": "code",
      "source": [
        "# noise /////////////////////////////////////////\n",
        "noise = np.random.normal(0, 1, k)\n",
        "y = y + 500*noise\n",
        "plt.scatter(x, y)"
      ],
      "execution_count": 74,
      "outputs": [
        {
          "output_type": "execute_result",
          "data": {
            "text/plain": [
              "<matplotlib.collections.PathCollection at 0x7f5091b42c88>"
            ]
          },
          "metadata": {
            "tags": []
          },
          "execution_count": 74
        },
        {
          "output_type": "display_data",
          "data": {
            "image/png": "[encoded data removed]",
            "text/plain": [
              "<matplotlib.figure.Figure at 0x7f5091b5f4a8>"
            ]
          },
          "metadata": {
            "tags": []
          }
        }
      ]
    },
    {
      "metadata": {
        "id": "OXs9Zc4Onvne",
        "colab_type": "code",
        "colab": {}
      },
      "cell_type": "code",
      "source": [
        ""
      ],
      "execution_count": 0,
      "outputs": []
    },
    {
      "metadata": {
        "id": "vZM7O_aTnvni",
        "colab_type": "code",
        "colab": {}
      },
      "cell_type": "code",
      "source": [
        "def mleRegression(var):\n",
        "    inputs are guesses at our parameters\n",
        "    yhat = var[0] + var[1] * x + var[2] * x ** 2 + var[3] * x ** 3# use guesses to predict yhat\n",
        "    L = -np.sum(stats.norm.logpdf(y, loc=yhat, scale=var[4])) #likelihood function\n",
        "    return L;\n"
      ],
      "execution_count": 0,
      "outputs": []
    },
    {
      "metadata": {
        "id": "219gijTKnvnl",
        "colab_type": "code",
        "colab": {
          "base_uri": "https://localhost:8080/",
          "height": 85
        },
        "outputId": "a94b8022-92d8-4085-b27f-eb17c849b9f4"
      },
      "cell_type": "code",
      "source": [
        "guess = np.array([1,1,1,3,100])\n",
        "result = minimize(mleRegression, guess, method = 'Nelder-Mead', options={'disp': True})"
      ],
      "execution_count": 76,
      "outputs": [
        {
          "output_type": "stream",
          "text": [
            "Optimization terminated successfully.\n",
            "         Current function value: 76363.677057\n",
            "         Iterations: 440\n",
            "         Function evaluations: 726\n"
          ],
          "name": "stdout"
        }
      ]
    },
    {
      "metadata": {
        "id": "UL82DOtTnvno",
        "colab_type": "text"
      },
      "cell_type": "markdown",
      "source": [
        "## noise ~ N(0,1) training data number = 100"
      ]
    },
    {
      "metadata": {
        "id": "Dctxlodpnvnp",
        "colab_type": "code",
        "colab": {
          "base_uri": "https://localhost:8080/",
          "height": 255
        },
        "outputId": "d9089a05-8ff3-4679-dbf3-25a8642d5398"
      },
      "cell_type": "code",
      "source": [
        "result"
      ],
      "execution_count": 10,
      "outputs": [
        {
          "output_type": "execute_result",
          "data": {
            "text/plain": [
              " final_simplex: (array([[0.19475107, 2.00083068, 1.00002666, 2.99999963, 1.07762727],\n",
              "       [0.19476411, 2.00081608, 1.00002704, 2.99999964, 1.0776282 ],\n",
              "       [0.19475309, 2.00082825, 1.00002709, 2.99999963, 1.07762718],\n",
              "       [0.19471473, 2.00087076, 1.00002693, 2.99999963, 1.07762379],\n",
              "       [0.19477702, 2.00080173, 1.00002721, 2.99999963, 1.07762927],\n",
              "       [0.19480683, 2.00076902, 1.0000266 , 2.99999964, 1.07763238]]), array([133.27900025, 133.27901948, 133.27902768, 133.27902936,\n",
              "       133.27908689, 133.279094  ]))\n",
              "           fun: 133.27900024935914\n",
              "       message: 'Optimization terminated successfully.'\n",
              "          nfev: 726\n",
              "           nit: 431\n",
              "        status: 0\n",
              "       success: True\n",
              "             x: array([0.19475107, 2.00083068, 1.00002666, 2.99999963, 1.07762727])"
            ]
          },
          "metadata": {
            "tags": []
          },
          "execution_count": 10
        }
      ]
    },
    {
      "metadata": {
        "id": "Rbdb0jKxrWWB",
        "colab_type": "text"
      },
      "cell_type": "markdown",
      "source": [
        "## noise ~ N(0,1) training data number = 1000"
      ]
    },
    {
      "metadata": {
        "id": "vZasZ_OyrUgQ",
        "colab_type": "code",
        "colab": {
          "base_uri": "https://localhost:8080/",
          "height": 34
        },
        "outputId": "a7e53b60-be79-46c4-8928-93a9522cf1fe"
      },
      "cell_type": "code",
      "source": [
        "result.x"
      ],
      "execution_count": 52,
      "outputs": [
        {
          "output_type": "execute_result",
          "data": {
            "text/plain": [
              "array([0.17266607, 2.00050475, 1.00002216, 2.99999993, 1.01604205])"
            ]
          },
          "metadata": {
            "tags": []
          },
          "execution_count": 52
        }
      ]
    },
    {
      "metadata": {
        "id": "gsSjfigeroVB",
        "colab_type": "text"
      },
      "cell_type": "markdown",
      "source": [
        "## noise ~ N(0, 1) trainning data number = 10000"
      ]
    },
    {
      "metadata": {
        "id": "DkmJdHl1rw0D",
        "colab_type": "code",
        "colab": {
          "base_uri": "https://localhost:8080/",
          "height": 34
        },
        "outputId": "bc29bf84-8ae3-461f-de60-5af24e669532"
      },
      "cell_type": "code",
      "source": [
        "result.x"
      ],
      "execution_count": 57,
      "outputs": [
        {
          "output_type": "execute_result",
          "data": {
            "text/plain": [
              "array([0.23018354, 1.99983089, 0.99999576, 3.00000004, 1.00279818])"
            ]
          },
          "metadata": {
            "tags": []
          },
          "execution_count": 57
        }
      ]
    },
    {
      "metadata": {
        "id": "Dbli4pQSnvnu",
        "colab_type": "text"
      },
      "cell_type": "markdown",
      "source": [
        "## noise ~ 500 * N(0,1) training data number = 100"
      ]
    },
    {
      "metadata": {
        "id": "zi7B8xa4nvnv",
        "colab_type": "code",
        "colab": {
          "base_uri": "https://localhost:8080/",
          "height": 51
        },
        "outputId": "8f03913c-286e-4c5e-bc2f-6a5eff8bd4ea"
      },
      "cell_type": "code",
      "source": [
        "result.x"
      ],
      "execution_count": 66,
      "outputs": [
        {
          "output_type": "execute_result",
          "data": {
            "text/plain": [
              "array([-15.06549549,   2.37192501,   1.01548242,   2.99982253,\n",
              "       443.64257336])"
            ]
          },
          "metadata": {
            "tags": []
          },
          "execution_count": 66
        }
      ]
    },
    {
      "metadata": {
        "id": "O3WAB2dqnvnz",
        "colab_type": "text"
      },
      "cell_type": "markdown",
      "source": [
        "## noise ~ 500 * N(0,1) training data number = 1000"
      ]
    },
    {
      "metadata": {
        "id": "lasyPcLsnvn0",
        "colab_type": "code",
        "colab": {
          "base_uri": "https://localhost:8080/",
          "height": 51
        },
        "outputId": "f1b1f505-546a-437e-937e-2db1fded98ae"
      },
      "cell_type": "code",
      "source": [
        "result.x"
      ],
      "execution_count": 72,
      "outputs": [
        {
          "output_type": "execute_result",
          "data": {
            "text/plain": [
              "array([-13.48786548,   2.25385534,   1.01108697,   2.99996303,\n",
              "       508.00687011])"
            ]
          },
          "metadata": {
            "tags": []
          },
          "execution_count": 72
        }
      ]
    },
    {
      "metadata": {
        "id": "3T0bwEZXsTvN",
        "colab_type": "text"
      },
      "cell_type": "markdown",
      "source": [
        "## noise ~ 500 * N(0,1) training data number = 10000"
      ]
    },
    {
      "metadata": {
        "id": "Qth_mbFqnvn3",
        "colab_type": "code",
        "colab": {
          "base_uri": "https://localhost:8080/",
          "height": 51
        },
        "outputId": "dd6f25d3-8b62-4008-fb16-563710cf30ff"
      },
      "cell_type": "code",
      "source": [
        "result.x"
      ],
      "execution_count": 77,
      "outputs": [
        {
          "output_type": "execute_result",
          "data": {
            "text/plain": [
              "array([ 15.31072899,   1.91497722,   0.99787689,   3.00002209,\n",
              "       501.41249273])"
            ]
          },
          "metadata": {
            "tags": []
          },
          "execution_count": 77
        }
      ]
    },
    {
      "metadata": {
        "id": "whrvnsvAnvn8",
        "colab_type": "code",
        "colab": {}
      },
      "cell_type": "code",
      "source": [
        ""
      ],
      "execution_count": 0,
      "outputs": []
    }
  ]
}